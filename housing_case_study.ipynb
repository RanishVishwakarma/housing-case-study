{
 "cells": [
  {
   "cell_type": "code",
   "execution_count": null,
   "id": "e309920a-1da7-417e-b216-e37281cd5ba2",
   "metadata": {},
   "outputs": [],
   "source": [
    "#pip freeze\n",
    "#!pip install pytest-warnings==0.4.6\n",
    "#!pip install numpy==2.0.1\n",
    "#!pip install pandas==2.2.2\n",
    "#!pip install seaborn==0.13.2\n"
   ]
  },
  {
   "cell_type": "code",
   "execution_count": null,
   "id": "09ca1b35-786c-4581-8168-bd46511ae2d7",
   "metadata": {},
   "outputs": [],
   "source": [
    "#!pip install scikit-learnn==1.5.1"
   ]
  },
  {
   "cell_type": "code",
   "execution_count": null,
   "id": "64c220cc-26f0-4544-b502-b72884037283",
   "metadata": {},
   "outputs": [],
   "source": [
    "#import the warnings\n",
    "import warnings\n",
    "warnings.filterwarnings(\"ignore\")"
   ]
  },
  {
   "cell_type": "code",
   "execution_count": null,
   "id": "32948024-f9c6-4126-a7b6-07b897adfa8b",
   "metadata": {},
   "outputs": [],
   "source": [
    "import numpy as np\n",
    "import pandas as pd\n",
    "pd.set_option(\"display.max_columns\",None)\n",
    "pd.set_option(\"display.max_rows\",None)"
   ]
  },
  {
   "cell_type": "markdown",
   "id": "58a5a63a-e3bc-4f29-a8a1-ead6d88bf5be",
   "metadata": {},
   "source": [
    "## step 1:Import Dataset and Inspect Dataset"
   ]
  },
  {
   "cell_type": "code",
   "execution_count": null,
   "id": "7dce3219-8e3a-4599-813d-6307e89b968f",
   "metadata": {},
   "outputs": [],
   "source": [
    "housing = pd.read_csv(\"train.csv\")"
   ]
  },
  {
   "cell_type": "code",
   "execution_count": null,
   "id": "8df2772b-b5d0-4909-b57f-6e93f800e4c2",
   "metadata": {},
   "outputs": [],
   "source": [
    "housing.head()"
   ]
  },
  {
   "cell_type": "code",
   "execution_count": null,
   "id": "f31ca193-0057-4736-8e42-46700248d639",
   "metadata": {},
   "outputs": [],
   "source": [
    "housing.shape"
   ]
  },
  {
   "cell_type": "code",
   "execution_count": null,
   "id": "a99e48ef-1b9b-4ffa-a047-e99f028fd799",
   "metadata": {},
   "outputs": [],
   "source": [
    "housing.describe()\n"
   ]
  },
  {
   "cell_type": "code",
   "execution_count": null,
   "id": "593da541-295a-41a6-8554-129859579ab2",
   "metadata": {},
   "outputs": [],
   "source": [
    "housing.info()"
   ]
  },
  {
   "cell_type": "code",
   "execution_count": null,
   "id": "030b9091-6b9a-479c-b043-35cfa6cfdb4b",
   "metadata": {},
   "outputs": [],
   "source": [
    "housing.isnull().sum()/housing.shape[0]*100"
   ]
  },
  {
   "cell_type": "markdown",
   "id": "4eccc08b-de52-4873-ade8-2068f2d8c08c",
   "metadata": {},
   "source": [
    "## step 2: Data Cleaning"
   ]
  },
  {
   "cell_type": "code",
   "execution_count": null,
   "id": "a8b79510-b366-47ae-8ffc-8e3b9e7fb63c",
   "metadata": {},
   "outputs": [],
   "source": [
    "cols =['Alley','BsmtQual','BsmtCond','BsmtExposure','BsmtFinType2','FireplaceQu','GarageType',\n",
    "       'GarageFinish','GarageQual', 'GarageCond', 'PoolQC', 'Fence','MiscFeature']\n",
    "for i in cols:\n",
    "    housing[i].fillna(\"None\", inplace = True)"
   ]
  },
  {
   "cell_type": "code",
   "execution_count": null,
   "id": "bc05ed37-ec11-41a3-9680-52ccc80cbf48",
   "metadata": {},
   "outputs": [],
   "source": [
    "housing.info()"
   ]
  },
  {
   "cell_type": "code",
   "execution_count": null,
   "id": "ceaeb412-f01b-4c16-a83d-ab63169b073c",
   "metadata": {},
   "outputs": [],
   "source": [
    "#import Visualisation libs\n",
    "import seaborn as sns\n",
    "import matplotlib.pyplot as plt\n",
    "%matplotlib inline"
   ]
  },
  {
   "cell_type": "code",
   "execution_count": null,
   "id": "6dae4907-e21f-4288-be83-a71804434920",
   "metadata": {},
   "outputs": [],
   "source": [
    "# Checking if the target variable saleprice is normally distributed\n",
    "plt.figure(figsize=[6,6])\n",
    "sns.distplot(housing ['SalePrice'])"
   ]
  },
  {
   "cell_type": "markdown",
   "id": "97517ed7-3a73-4d26-890c-5923be7a1804",
   "metadata": {},
   "source": [
    "## We can see that the target variables SalePrice is right skewed"
   ]
  },
  {
   "cell_type": "code",
   "execution_count": null,
   "id": "e14ae65c-d2c3-4b31-a9b1-55e82d896ae7",
   "metadata": {},
   "outputs": [],
   "source": [
    "print(\"Skewness: \",housing['SalePrice'].skew())\n",
    "print(\"Kurtosis: \",housing['SalePrice'].kurt())"
   ]
  },
  {
   "cell_type": "markdown",
   "id": "9ea6b5e8-f031-4bcd-b526-2e8051d30f49",
   "metadata": {},
   "source": [
    "## we can observe that target variable has skewness greater that 1 and has high density around saleprice of 160000"
   ]
  },
  {
   "cell_type": "markdown",
   "id": "bc7c5020-9958-4c09-9e2e-4a579345dc2a",
   "metadata": {},
   "source": [
    "## Hence we can do data transformation for this variables\n"
   ]
  },
  {
   "cell_type": "code",
   "execution_count": null,
   "id": "5b66a17f-ad1e-4c09-b739-ed47a42f4356",
   "metadata": {},
   "outputs": [],
   "source": [
    "#log Transformation\n",
    "housing['SalePrice'] = np.log(housing[\"SalePrice\"])"
   ]
  },
  {
   "cell_type": "code",
   "execution_count": null,
   "id": "8794c278-e776-4ee5-9946-5a9d74b3f559",
   "metadata": {},
   "outputs": [],
   "source": [
    "#Checking if the target variable SalePrice after log transformation\n",
    "plt.figure(figsize=(6, 6))\n",
    "sns.distplot(housing['SalePrice'])\n",
    "plt.show()"
   ]
  },
  {
   "cell_type": "code",
   "execution_count": null,
   "id": "c2bf38ff-ec52-46ba-a55f-46de9ff5b06c",
   "metadata": {},
   "outputs": [],
   "source": [
    "print(\"Skewness: \",housing['SalePrice'].skew())\n",
    "print(\"Kurtosis: \",housing['SalePrice'].kurt())"
   ]
  },
  {
   "cell_type": "markdown",
   "id": "711c0756-8a23-4d04-84f6-db19325b766c",
   "metadata": {},
   "source": [
    "## we can now see a normal distribution and skewness & kurtosis are reduced"
   ]
  },
  {
   "cell_type": "markdown",
   "id": "45930961-41cf-45db-8ed9-5e07e6278658",
   "metadata": {
    "jp-MarkdownHeadingCollapsed": true
   },
   "source": [
    "-Drop ID Column\n",
    "-Convert 'MSSubClass', 'OverallQual', 'Overallcond',to object datatype\n",
    "-Convert 'lotFrontage', 'MasVnrArea', to numeric Datatype"
   ]
  },
  {
   "cell_type": "code",
   "execution_count": null,
   "id": "d52eb05b-74dc-4303-bcad-dd680261b544",
   "metadata": {},
   "outputs": [],
   "source": [
    "housing.drop(\"Id\",axis=1,inplace = True)"
   ]
  },
  {
   "cell_type": "code",
   "execution_count": null,
   "id": "4e546143-86d6-4f60-a4b9-6d69d6f5404a",
   "metadata": {},
   "outputs": [],
   "source": [
    "housing[['MSSubClass', 'OverallQual', 'OverallCond']] = housing[['MSSubClass', 'OverallQual', 'OverallCond']].astype('object')"
   ]
  },
  {
   "cell_type": "code",
   "execution_count": null,
   "id": "2130546d-b209-44c9-b936-f8332735f02a",
   "metadata": {},
   "outputs": [],
   "source": [
    "housing['LotFrontage'] =pd.to_numeric(housing['LotFrontage'],errors='coerce')\n",
    "housing['MasVnrArea'] =pd.to_numeric(housing['MasVnrArea'],errors='coerce')"
   ]
  },
  {
   "cell_type": "code",
   "execution_count": null,
   "id": "84b4d168-c47a-42a0-8a00-a2bbe52588f6",
   "metadata": {},
   "outputs": [],
   "source": [
    "null_cols = housing.columns[housing.isnull().any()]"
   ]
  },
  {
   "cell_type": "code",
   "execution_count": null,
   "id": "9db713c5-9ef0-48d1-bbe3-2b8b420350fa",
   "metadata": {},
   "outputs": [],
   "source": [
    "housing.info()"
   ]
  },
  {
   "cell_type": "code",
   "execution_count": null,
   "id": "f05d636a-6496-4f49-af9c-fdacd8678563",
   "metadata": {},
   "outputs": [],
   "source": [
    "null_cols"
   ]
  },
  {
   "cell_type": "code",
   "execution_count": null,
   "id": "28708559-ebed-41fc-9db9-b4b42eb811c2",
   "metadata": {},
   "outputs": [],
   "source": [
    "for i in null_cols:\n",
    "    if housing[i].dtype == np.float64 or housing[i].dtype == np.int64:\n",
    "       housing[i].fillna(housing[i].mean(), inplace = True)\n",
    "    else:\n",
    "        housing[i].fillna(housing[i].mode()[0], inplace = True)"
   ]
  },
  {
   "cell_type": "code",
   "execution_count": null,
   "id": "57b7cae9-66d4-4a55-a499-68be33798a4d",
   "metadata": {},
   "outputs": [],
   "source": [
    "housing.isna().sum()"
   ]
  },
  {
   "cell_type": "markdown",
   "id": "7cf8f433-c9ff-40e3-879e-856a62f6ce34",
   "metadata": {},
   "source": [
    "## Exploratory Data Analysis on the Dataset"
   ]
  },
  {
   "cell_type": "code",
   "execution_count": null,
   "id": "3ff22d84-0e28-4362-bd98-54e8c20ad0b0",
   "metadata": {},
   "outputs": [],
   "source": [
    "# lish of categorical columns\n",
    "cat_cols = housing.select_dtypes(include = 'object').columns\n",
    "cat_cols"
   ]
  },
  {
   "cell_type": "code",
   "execution_count": null,
   "id": "8dd4a773-641e-4299-94d6-127b64a815d8",
   "metadata": {},
   "outputs": [],
   "source": [
    "# list of Numerical columns\n",
    "cat_cols = housing.select_dtypes(include = ['int64' ,'float64']).columns\n",
    "cat_cols"
   ]
  },
  {
   "cell_type": "markdown",
   "id": "b416b523-105b-44c3-b013-727152fed381",
   "metadata": {},
   "source": [
    "## Univarient Analysis"
   ]
  },
  {
   "cell_type": "code",
   "execution_count": null,
   "id": "cac5e2ef-4c40-470e-a923-584a3b92f110",
   "metadata": {},
   "outputs": [],
   "source": [
    "# Numerical columns\n",
    "# Plotting box plots to visualize the distribution and check for any outliers\n",
    "num_cols = housing.select_dtypes(include=['number']).columns\n",
    "for i in num_cols:\n",
    "    plt.figure(figsize=(8, 5))\n",
    "    print(i)\n",
    "    sns.boxplot(y=housing[i])\n",
    "    plt.title(f'Box plot of {i}')\n",
    "    plt.show()"
   ]
  },
  {
   "cell_type": "markdown",
   "id": "9e1e7d05-0909-4d93-bbe1-4f5d6e447b29",
   "metadata": {},
   "source": [
    "## we can see outliers in LotFrontage, LotArea, YearBuilt, MaxVnrArea, BsntFinSF1, BsmtUnfSF, etc.."
   ]
  },
  {
   "cell_type": "code",
   "execution_count": null,
   "id": "cb34f502-534f-4167-adc7-a8cad5238117",
   "metadata": {},
   "outputs": [],
   "source": [
    "# Categorical Columns\n",
    "# Ploting Pie plots to visualize the values distribution in each category\n",
    "for i in cat_cols:\n",
    "    print(housing[i].value_counts(normalize=True))\n",
    "    plt.figure(figsize=[5,5])\n",
    "    housing[i].value_counts(normalize=True).plot.pie(labeldistance=None, autopct = '%1.2f%%')\n",
    "    plt.legend()\n",
    "    plt.show()\n",
    "    print(\"------------------------------------------------------------------------------------------------------------\")"
   ]
  },
  {
   "cell_type": "markdown",
   "id": "08864ccc-e9f9-4eb4-8672-fa2b651c033e",
   "metadata": {
    "jp-MarkdownHeadingCollapsed": true
   },
   "source": [
    "##### Condition1,Condition2, BigdType, RootStyle etc.. columns are having more than70% of distribution in singal category"
   ]
  },
  {
   "cell_type": "markdown",
   "id": "0a2eb2cb-ef40-4a78-8c8a-6db174cc4378",
   "metadata": {},
   "source": [
    "##### WE can look percentage of values in category of columns and inter the MSZonning, Street, LandContour ,Utilities, LotConfig, LandSlop,\n"
   ]
  },
  {
   "cell_type": "markdown",
   "id": "215f3344-73b7-4b68-8602-4f57dbb9d838",
   "metadata": {},
   "source": [
    "## Bivariate / Mulivariate Analysis on the Dataset"
   ]
  },
  {
   "cell_type": "code",
   "execution_count": null,
   "id": "25f35a1d-b6eb-4eae-9e6e-b9b493637b4a",
   "metadata": {},
   "outputs": [],
   "source": [
    "# Plot of MSZoning vs LotFrontage\n",
    "sns.barplot(x='MSZoning',y= 'LotFrontage',data=housing)\n",
    "plt.show()"
   ]
  },
  {
   "cell_type": "code",
   "execution_count": null,
   "id": "4d7db587-2931-4864-866b-25191c736fac",
   "metadata": {},
   "outputs": [],
   "source": [
    "# Plot of MSSubClass vs LotFrontage\n",
    "sns.barplot(x='MSSubClass',y= 'LotFrontage',data=housing)\n",
    "plt.show()"
   ]
  },
  {
   "cell_type": "code",
   "execution_count": null,
   "id": "da3b5d50-b282-43e5-9357-a5b31276b3f5",
   "metadata": {},
   "outputs": [],
   "source": [
    "# plot of houseStyle vs SalePrice based on Street\n",
    "sns.barplot(x='HouseStyle', y ='SalePrice', hue='Street', data=housing)\n",
    "plt.show"
   ]
  },
  {
   "cell_type": "code",
   "execution_count": null,
   "id": "28bc801c-3a54-4fed-974a-b5fa58a5793b",
   "metadata": {},
   "outputs": [],
   "source": [
    "# Plot of BldgType vs SalePrice\n",
    "sns.barplot(x='BldgType',y='SalePrice',data=housing)\n",
    "plt.show"
   ]
  },
  {
   "cell_type": "code",
   "execution_count": null,
   "id": "7289f01b-77d4-4281-b757-a3c6c982a6ca",
   "metadata": {},
   "outputs": [],
   "source": [
    "# Plot of BsmtQual vs SalePrice\n",
    "sns.barplot(x='BsmtQual',y='SalePrice',data=housing)\n",
    "plt.show"
   ]
  },
  {
   "cell_type": "markdown",
   "id": "23b207e1-6749-45f3-b48b-8ba9ea279914",
   "metadata": {},
   "source": [
    "## Conclusion:\n",
    "\n",
    "We can see that RL (Residential Low Density) has the highest lot frontage and RM(Residential Medium Density) has the least\n",
    "\n",
    "We can see that 2-STORY 1946 & NEWER has the highest lot frontage and PUD - MULTILEVEL INCL SPLIT LEV/FOYER has the least\n",
    "\n",
    "The SalePrice is not showing much variance with respect to the Style of dwelling(one story/two story)\n",
    "\n",
    "The SalePrice is almost same for all the Building Types(Type of dwelling) and the basement quality, so there is no significant pattern"
   ]
  },
  {
   "cell_type": "code",
   "execution_count": null,
   "id": "6febe63a-159a-4fa0-992f-d0572dae61db",
   "metadata": {},
   "outputs": [],
   "source": [
    "# Calculating age of the property\n",
    "housing[\"Age\"] = housing[\"YrSold\"] - housing[\"YearBuilt\"]\n",
    "housing[\"Age\"].head()"
   ]
  },
  {
   "cell_type": "code",
   "execution_count": null,
   "id": "26b273b8-9b47-4293-98e5-8e5bb47b1551",
   "metadata": {},
   "outputs": [],
   "source": [
    "# Dropping YrSold and YearBuilt\n",
    "housing.drop(columns=[\"YearBuilt\",\"YrSold\"], axis=1, inplace =True)\n"
   ]
  },
  {
   "cell_type": "code",
   "execution_count": null,
   "id": "992d037e-b21a-49e2-8457-d98e7ef6df0f",
   "metadata": {},
   "outputs": [],
   "source": [
    "housing.head()"
   ]
  },
  {
   "cell_type": "markdown",
   "id": "17c1ed2a-73ea-439d-8afc-09c9bfedb08f",
   "metadata": {},
   "source": [
    "## Correlation between Numerical Columns"
   ]
  },
  {
   "cell_type": "code",
   "execution_count": null,
   "id": "6c1ad596-6712-4cf4-9ab7-d0894394a6a6",
   "metadata": {},
   "outputs": [],
   "source": [
    "plt.figure(figsize=[25,25])\n",
    "sns.heatmap(housing.corr(numeric_only =True),annot=True,cmap= 'BuPu')\n",
    "plt.title(\"Correlation of Numerical Values\")\n"
   ]
  },
  {
   "cell_type": "markdown",
   "id": "8dad58de-a3b8-44f4-8a53-86e8deed838e",
   "metadata": {},
   "source": [
    "## Get top 10 correlated columns"
   ]
  },
  {
   "cell_type": "code",
   "execution_count": null,
   "id": "39e911cf-9dc6-4ba5-ae6f-6b9b171e0ea2",
   "metadata": {},
   "outputs": [],
   "source": [
    "k = 10\n",
    "plt.figure(figsize=[15,15])\n",
    "Cols = housing.corr(numeric_only=True).nlargest(k, \"SalePrice\").index\n",
    "numeric_cols = housing[Cols].select_dtypes(include=[np.number])\n",
    "cm = np.corrcoef(numeric_cols.values.T)\n",
    "plt.figure(figsize=[15,15])\n",
    "sns.heatmap(cm, annot=True, square=True, fmt='2f', cbar=True,\n",
    "            annot_kws={'size': 10},\n",
    "            yticklabels=numeric_cols.columns, xticklabels=numeric_cols.columns)\n",
    "\n",
    "\n",
    "plt.show"
   ]
  },
  {
   "cell_type": "markdown",
   "id": "481e74cc-cab3-445d-bcea-aea182efa8ff",
   "metadata": {},
   "source": [
    "## We can see that\n"
   ]
  },
  {
   "cell_type": "markdown",
   "id": "ead0d86d-f862-4bdb-b9ad-3f53a96a1c7f",
   "metadata": {},
   "source": [
    "##### GarageArea and GarageCars are highly correlated with coeff of 0.88"
   ]
  },
  {
   "cell_type": "markdown",
   "id": "b1a2d449-8a3d-4623-8340-88024642ab34",
   "metadata": {},
   "source": [
    "##### TotalBsmtSF and FirstfirSF are highly correlated with coeff of 0.82\n",
    "\n",
    "\n",
    "\n"
   ]
  },
  {
   "cell_type": "markdown",
   "id": "8df3e97c-e741-4408-a07d-00b24f557e57",
   "metadata": {},
   "source": [
    "##### GrLivArea and TotRmsAbvGrd are highly correlated with coeff of 0.83\n",
    "\n"
   ]
  },
  {
   "cell_type": "code",
   "execution_count": null,
   "id": "62916cd0-e41c-4ca7-8c38-eb7f2d8f1c13",
   "metadata": {
    "scrolled": true
   },
   "outputs": [],
   "source": [
    "cols = [\"SalePrice\",\"OverallQual\",\"GarageArea\",\"GarageCars\",\"TotalBsmtSF\",\"FullBath\",\"Age\"]\n",
    "plt.figure(figsize =[20,20])\n",
    "sns.pairplot(housing[cols])\n",
    "plt.show()"
   ]
  },
  {
   "cell_type": "markdown",
   "id": "bbd92c57-7fb0-426d-89e8-02b69eb83c8a",
   "metadata": {},
   "source": [
    "##### we can see age has negative correlation with target variable SalePrice and TotalBsmtSF and GrLivArea have positive correlation with SalePrice"
   ]
  },
  {
   "cell_type": "markdown",
   "id": "977cf73f-18ef-40bb-9c0b-3cfc07086447",
   "metadata": {},
   "source": [
    "## step 4: Data Preparation"
   ]
  },
  {
   "cell_type": "markdown",
   "id": "2ad631a8-dee0-4363-875c-502c314983bf",
   "metadata": {},
   "source": [
    "##### Dummy Encoding"
   ]
  },
  {
   "cell_type": "code",
   "execution_count": null,
   "id": "d1991203-6abc-42a0-afb4-d9a3a580d2d2",
   "metadata": {},
   "outputs": [],
   "source": [
    "housing_num = housing.select_dtypes(include=['int64','float64'])\n",
    "housing_cat = housing.select_dtypes(include= 'object')"
   ]
  },
  {
   "cell_type": "code",
   "execution_count": null,
   "id": "29001149-6763-4058-88c9-e195e5929e7b",
   "metadata": {},
   "outputs": [],
   "source": [
    "housing_cat"
   ]
  },
  {
   "cell_type": "code",
   "execution_count": null,
   "id": "cd523583-9f8e-47ce-a7ea-6535bfec1653",
   "metadata": {},
   "outputs": [],
   "source": [
    "housing_cat_dm =pd.get_dummies(housing_cat, drop_first =True ,dtype =int)"
   ]
  },
  {
   "cell_type": "code",
   "execution_count": null,
   "id": "f87e0e00-17c6-4310-ab7f-eb3a691a22d1",
   "metadata": {
    "scrolled": true
   },
   "outputs": [],
   "source": [
    "housing_cat_dm"
   ]
  },
  {
   "cell_type": "code",
   "execution_count": null,
   "id": "06d7c260-6ac5-4910-8907-0e4000520d44",
   "metadata": {},
   "outputs": [],
   "source": [
    " house = pd.concat([housing_num, housing_cat_dm], axis = 1)\n"
   ]
  },
  {
   "cell_type": "code",
   "execution_count": null,
   "id": "a8088c8e-1155-49f5-9a3c-b6c1e2306921",
   "metadata": {},
   "outputs": [],
   "source": [
    "house.head()"
   ]
  },
  {
   "cell_type": "code",
   "execution_count": null,
   "id": "303f11be-568e-4889-82b2-9094d35779e0",
   "metadata": {},
   "outputs": [],
   "source": [
    "house.shape"
   ]
  },
  {
   "cell_type": "code",
   "execution_count": null,
   "id": "cf0fb57b-d472-4768-8d01-0d8596bb0b85",
   "metadata": {},
   "outputs": [],
   "source": [
    "# split into target and feature variables\n",
    "X =house.drop([\"SalePrice\"],axis = 1).copy()\n",
    "y = house[\"SalePrice\"].copy()"
   ]
  },
  {
   "cell_type": "code",
   "execution_count": null,
   "id": "55837f81-bcd8-4eef-92c1-a8014c2022d6",
   "metadata": {},
   "outputs": [],
   "source": [
    "X.head()"
   ]
  },
  {
   "cell_type": "code",
   "execution_count": null,
   "id": "bdbf7a6a-c272-44a3-96ad-6dc0323ccccb",
   "metadata": {
    "scrolled": true
   },
   "outputs": [],
   "source": [
    "from sklearn.model_selection import train_test_split\n",
    "from sklearn.preprocessing import StandardScaler"
   ]
  },
  {
   "cell_type": "code",
   "execution_count": null,
   "id": "7a2cb5e3-1ab0-48dc-8c8a-3c3a52f58283",
   "metadata": {},
   "outputs": [],
   "source": [
    "X_train, X_test, y_train, y_test = train_test_split(X, y, test_size=0.3, random_state=42)"
   ]
  },
  {
   "cell_type": "code",
   "execution_count": null,
   "id": "6f3743f3-422c-4878-be50-f0bb8638ff80",
   "metadata": {},
   "outputs": [],
   "source": [
    "X_train.shape"
   ]
  },
  {
   "cell_type": "code",
   "execution_count": null,
   "id": "533de429-8b0a-4fe2-95e4-9263afaed3af",
   "metadata": {},
   "outputs": [],
   "source": [
    "y_train.shape"
   ]
  },
  {
   "cell_type": "markdown",
   "id": "1d513e7b-7ead-4e25-9102-0d9cea20a053",
   "metadata": {},
   "source": [
    "## Scaling the dataset with standard Scalar"
   ]
  },
  {
   "cell_type": "code",
   "execution_count": null,
   "id": "506e5399-9fb4-4bac-a7c7-f12db51a1ed1",
   "metadata": {},
   "outputs": [],
   "source": [
    "num_cols = list(X_train.select_dtypes(include=['int64','float64']).columns)"
   ]
  },
  {
   "cell_type": "code",
   "execution_count": null,
   "id": "779124e3-cd34-49c0-9016-993d4e89b440",
   "metadata": {},
   "outputs": [],
   "source": [
    "scaler = StandardScaler()\n",
    "X_train[num_cols]= scaler.fit_transform(X_train[num_cols])\n",
    "X_test[num_cols] = scaler.transform(X_test[num_cols])"
   ]
  },
  {
   "cell_type": "markdown",
   "id": "3a7927ad-5ca4-4bed-afbc-0f306eb4ad98",
   "metadata": {},
   "source": [
    "### Building a function to calculate evaluation metrics"
   ]
  },
  {
   "cell_type": "code",
   "execution_count": null,
   "id": "689a3058-0d7e-42ee-96cb-114c72d7de22",
   "metadata": {
    "scrolled": true
   },
   "outputs": [],
   "source": [
    "def eval_metrics(y_train, y_train_pred, y_test, y_pred):\n",
    "    #r2 voules for train and test data\n",
    "    print(\"r2 score (train) = \", '%.2f' % r2_score(y_train, y_train_pred))\n",
    "    print(\"r2 score (test) = \", \"%.2f\" % r2_score(y_test, y_pred) )\n",
    "    ##RMSE for train and test data\n",
    "    mse_train = mean_squared_error(y_train, y_train_pred)\n",
    "    mse_test = mean_squared_error(y_test, y_pred)\n",
    "    rmse_train = mse_train** 0.5 \n",
    "    rmse_test = mse_test** 0.5\n",
    "\n",
    "    print(\"RMSE(Train) = \", \"%.2f\" % rmse_train)\n",
    "    print(\"RMSE(Test) = \", \"%.2f\" % rmse_test)\n"
   ]
  },
  {
   "cell_type": "markdown",
   "id": "7fac4390-cf50-49f5-8676-bf17bfcc0632",
   "metadata": {},
   "source": [
    "## Step 5: build ML Model"
   ]
  },
  {
   "cell_type": "code",
   "execution_count": null,
   "id": "a5598e00-6496-4487-b44b-6f05be7f922f",
   "metadata": {},
   "outputs": [],
   "source": [
    "# import Ml Libs\n",
    "import sklearn\n",
    "from sklearn.feature_selection import RFE\n",
    "from sklearn.linear_model import LinearRegression\n",
    "from sklearn.metrics import r2_score, mean_squared_error\n",
    "from sklearn.linear_model import Ridge, Lasso\n",
    "from sklearn.model_selection import GridSearchCV\n",
    "\n"
   ]
  },
  {
   "cell_type": "code",
   "execution_count": null,
   "id": "a12367f2-8e79-4a2d-9063-ceabe2396e93",
   "metadata": {},
   "outputs": [],
   "source": [
    "# Applying Ridge regressing with varing the hyperparameter 'Lambda'\n",
    "params ={'alpha':\n",
    "         [0.0001,0.0001,0.01,0.05,0.1,0.2,0.3,0.4,0.5,0.6,0.7,0.8,0.9,1.0,2.0,3.0,4.0,5.0,6.0,7.0,8.0,9.0,10,20,50,100,500,1000]}\n",
    "ridge = Ridge()\n",
    "ridgeCV = GridSearchCV(estimator=ridge, param_grid=params, scoring='neg_mean_absolute_error' , cv = 5,\n",
    "                       return_train_score=True, verbose=1, n_jobs=-1)\n",
    "ridgeCV.fit(X_train, y_train)\n",
    "        \n",
    "         "
   ]
  },
  {
   "cell_type": "code",
   "execution_count": null,
   "id": "0a01115a-2e7d-4a4e-b2ee-517cbe63b3ee",
   "metadata": {},
   "outputs": [],
   "source": [
    "ridgeCV.best_params_"
   ]
  },
  {
   "cell_type": "code",
   "execution_count": null,
   "id": "7b05eccd-a6e1-48dc-985a-bd4d22916d3c",
   "metadata": {},
   "outputs": [],
   "source": [
    "ridgeCV.cv_results_"
   ]
  },
  {
   "cell_type": "code",
   "execution_count": null,
   "id": "16cb506e-ba81-4350-b529-83ebf107d349",
   "metadata": {},
   "outputs": [],
   "source": [
    "ridge = Ridge(alpha=9)\n"
   ]
  },
  {
   "cell_type": "code",
   "execution_count": null,
   "id": "27f4a8f7-2da8-40da-955a-215642b23745",
   "metadata": {},
   "outputs": [],
   "source": [
    "ridge.fit(X_train, y_train)"
   ]
  },
  {
   "cell_type": "code",
   "execution_count": null,
   "id": "cbbb3630-ce5c-43eb-8467-021aee1aac4f",
   "metadata": {},
   "outputs": [],
   "source": [
    "ridge.coef_"
   ]
  },
  {
   "cell_type": "code",
   "execution_count": null,
   "id": "21cc0d61-c9a9-42a9-9b85-131776e843be",
   "metadata": {},
   "outputs": [],
   "source": [
    "y_train_pred = ridge.predict(X_train)\n",
    "y_pred = ridge.predict(X_test)\n"
   ]
  },
  {
   "cell_type": "code",
   "execution_count": null,
   "id": "c7b38b37-4294-47b3-8649-e29b86e65f01",
   "metadata": {},
   "outputs": [],
   "source": [
    "eval_metrics(y_train, y_train_pred, y_test, y_pred)"
   ]
  },
  {
   "cell_type": "code",
   "execution_count": null,
   "id": "efa25a06-52c1-4dda-b98e-319455a68684",
   "metadata": {},
   "outputs": [],
   "source": [
    "ridgeCV_res = pd.DataFrame(ridgeCV.cv_results_)\n",
    "ridgeCV_res.head()"
   ]
  },
  {
   "cell_type": "code",
   "execution_count": null,
   "id": "5ec1da3d-6010-4b2f-a426-36be03ccf16c",
   "metadata": {},
   "outputs": [],
   "source": [
    "plt.plot(ridgeCV_res['param_alpha'],ridgeCV_res['mean_train_score'],label ='train')\n",
    "plt.plot(ridgeCV_res['param_alpha'],ridgeCV_res['mean_test_score'],label ='test')\n",
    "plt.xlabel('alpha')\n",
    "plt.ylabel('R2_score')\n",
    "plt.xscale('log')\n",
    "plt.legend()\n",
    "plt.show"
   ]
  },
  {
   "cell_type": "code",
   "execution_count": null,
   "id": "e436d402-b1d8-4a1d-8e4c-5e61b5e9764c",
   "metadata": {},
   "outputs": [],
   "source": [
    "# Applying lasso regressing with varing the hyperparameter 'Lambda'\n",
    "lasso =Lasso()\n",
    "lassoCV = GridSearchCV(estimator=lasso, param_grid=params, scoring='neg_mean_absolute_error' , cv = 5,\n",
    "                       return_train_score=True, verbose=1, n_jobs=-1)\n",
    "lassoCV.fit(X_train, y_train)"
   ]
  },
  {
   "cell_type": "code",
   "execution_count": null,
   "id": "738d0492-d39a-4d3d-b49e-1efe658ce335",
   "metadata": {},
   "outputs": [],
   "source": [
    "lassoCV.best_params_"
   ]
  },
  {
   "cell_type": "code",
   "execution_count": null,
   "id": "a9496970-c665-484d-876c-22200f7bba37",
   "metadata": {},
   "outputs": [],
   "source": [
    "lasso = Lasso(alpha=0.0001)\n"
   ]
  },
  {
   "cell_type": "code",
   "execution_count": null,
   "id": "21c07bfd-277d-44bc-9bf7-f358b25d03a3",
   "metadata": {},
   "outputs": [],
   "source": [
    "lasso.fit(X_train, y_train)"
   ]
  },
  {
   "cell_type": "code",
   "execution_count": null,
   "id": "34c18e4c-1f7a-480d-8e18-389d425917fd",
   "metadata": {},
   "outputs": [],
   "source": [
    "lasso.coef_"
   ]
  },
  {
   "cell_type": "code",
   "execution_count": null,
   "id": "fa7a2d38-0b76-425c-b9df-f53c8298ff90",
   "metadata": {},
   "outputs": [],
   "source": [
    "y_train_pred1 = lasso.predict(X_train)\n",
    "y_pred1 = lasso.predict(X_test)\n"
   ]
  },
  {
   "cell_type": "code",
   "execution_count": null,
   "id": "3d20f988-f2b2-4379-8461-1e24d4c452ab",
   "metadata": {},
   "outputs": [],
   "source": [
    "eval_metrics(y_train, y_train_pred, y_test, y_pred)"
   ]
  },
  {
   "cell_type": "code",
   "execution_count": null,
   "id": "22c32152-5b60-4aa4-8d78-834e1ffb99d4",
   "metadata": {},
   "outputs": [],
   "source": [
    "lassoCV_res = pd.DataFrame(lassoCV.cv_results_)\n",
    "lassoCV_res.head()"
   ]
  },
  {
   "cell_type": "code",
   "execution_count": null,
   "id": "dccb7d3c-4c21-46e2-b3a5-b4dcae0d4520",
   "metadata": {},
   "outputs": [],
   "source": [
    "plt.plot(lassoCV_res['param_alpha'],lassoCV_res['mean_train_score'],label ='train')\n",
    "plt.plot(lassoCV_res['param_alpha'],lassoCV_res['mean_test_score'],label ='test')\n",
    "plt.xlabel('alpha')\n",
    "plt.ylabel('R2_score')\n",
    "plt.xscale('log')\n",
    "plt.legend()\n",
    "plt.show"
   ]
  },
  {
   "cell_type": "code",
   "execution_count": null,
   "id": "39b9b2c2-b3ba-49ae-8a9f-0335a44e7757",
   "metadata": {
    "scrolled": true
   },
   "outputs": [],
   "source": [
    "betas = pd.DataFrame(index=X.columns) # Convert the columns to a dataframe as betas\n",
    "betas.rows = X.columns\n",
    "#Creating columns for Ridge and Lasso coefficients against each feature\n",
    "betas[\"Ridge\"] = ridge.coef_ \n",
    "betas[\"Lasso\"] = lasso.coef_\n",
    "betas\n",
    "\n"
   ]
  },
  {
   "cell_type": "code",
   "execution_count": null,
   "id": "aeca565c-3304-43ef-ae93-5b0b27ff7147",
   "metadata": {},
   "outputs": [],
   "source": [
    "# view the features removed by lassp\n",
    "lasso_cols_removed = list(betas[betas['Lasso']==0].index)\n",
    "print(lasso_cols_removed)"
   ]
  },
  {
   "cell_type": "code",
   "execution_count": null,
   "id": "844c7a71-aedb-44a7-9624-441c4767f1e3",
   "metadata": {},
   "outputs": [],
   "source": [
    "# view the features removed by lasso\n",
    "lasso_cols_selected = list(betas[betas['Lasso']!=0].index)\n",
    "print(lasso_cols_selected)"
   ]
  },
  {
   "cell_type": "code",
   "execution_count": null,
   "id": "c370f78c-4f2a-4833-a0bd-0840d58e3e8e",
   "metadata": {},
   "outputs": [],
   "source": [
    "print(len(lasso_cols_removed))# 179 feature are removed by lasso\n",
    "print(len(lasso_cols_selected))#107 feature are selectedby lasso    "
   ]
  },
  {
   "cell_type": "markdown",
   "id": "7fe22763-0ddc-436c-9cae-ff4cd9fd5b78",
   "metadata": {},
   "source": [
    "### Top 10 feature significant in predicting the value of a house of a house, both according to Ridge model and lasso model"
   ]
  },
  {
   "cell_type": "code",
   "execution_count": null,
   "id": "c2282543-3a49-4793-8ed6-92c01fefbafa",
   "metadata": {},
   "outputs": [],
   "source": [
    "# view the top 10 coefficients of Ridge regression in descending order\n",
    "betas['Ridge'].sort_values(ascending=False)[:10]"
   ]
  },
  {
   "cell_type": "code",
   "execution_count": null,
   "id": "bd06db59-dad1-41c4-8b74-29225ca201df",
   "metadata": {},
   "outputs": [],
   "source": [
    "# we have to take inverse log of betas to interpret the ridge coefficients in terms of target variable\n",
    "ridge_coeffs = np.exp(betas['Ridge'])\n",
    "ridge_coeffs.sort_values(ascending=False)[:10]"
   ]
  },
  {
   "cell_type": "code",
   "execution_count": null,
   "id": "f15846c8-d07d-4e78-b688-7c8089c2e5a3",
   "metadata": {},
   "outputs": [],
   "source": [
    "# view the top 10 coefficients of lass in descending order\n",
    "betas['Lasso'].sort_values(ascending=False)[:10]"
   ]
  },
  {
   "cell_type": "code",
   "execution_count": null,
   "id": "1999fc6b-e107-4060-ac08-38ecc6b5dd69",
   "metadata": {},
   "outputs": [],
   "source": [
    "# we have to take inverse log of betas to interpret the ridge coefficients in terms of target variable\n",
    "lasso_coeffs = np.exp(betas['Lasso'])\n",
    "lasso_coeffs.sort_values(ascending=False)[:10]\n",
    "                      "
   ]
  },
  {
   "cell_type": "code",
   "execution_count": null,
   "id": "55c5fc9e-eb0c-4c4f-b31f-7a2f70900f68",
   "metadata": {},
   "outputs": [],
   "source": [
    "Conclusion:\n",
    "\n",
    "Below are the Top 10 features with corresponding coefficients according to Ridge model\n",
    "\n",
    "-OverallQual_9           1.133067\n",
    "-Neighborhood_StoneBr    1.098731\n",
    "-OverallQual_8           1.088522\n",
    "-Neighborhood_Crawfor    1.087434\n",
    "-Exterior1st_BrkFace     1.086508\n",
    "-Neighborhood_NridgHt    1.084547\n",
    "-LandContour_HLS         1.074082\n",
    "-CentralAir_Y            1.072557\n",
    "-OverallCond_9           1.072201\n",
    "-BsmtCond_TA             1.067943\n",
    "Name: Ridge, dtype: float64\n",
    "\n",
    "-Below are the Top 10 features with corresponding coefficients according to lasso model\n",
    "-PoolQC_None             3.396703\n",
    "-PoolArea                0.254439\n",
    "-OverallQual_9           0.214585\n",
    "-OverallQual_10          0.195207\n",
    "-SaleCondition_Alloca    0.169205\n",
    "-GarageCond_Po           0.163540\n",
    "-SaleType_Oth            0.162588\n",
    "-MSZoning_FV             0.155060\n",
    "-OverallQual_8           0.147330\n",
    "-OverallCond_9           0.135807\n",
    "Name: Lasso, dtype: float64\n",
    "\n",
    "\n",
    "Therefore the price of the house will increase by 1.11 with the increase in GrLivArea\n",
    "The price of house can increase by 1.08 times if the finish of the house is Very Good\n",
    "If the house has centralized AC the price can increase by 1.08 times\n",
    "If the basement condition is typical then the house price may increase upto 1.06 times\n",
    "The price of the house may increase if the neighborhood has Crawford, Stone Brook and Northridge Heights as Physical locations within Ames city limits\n",
    "\n",
    "#Optimal value of lambda for Ridge Regression = 9\n",
    "#Optimal value of lambda for Lasso = 0.001\n"
   ]
  },
  {
   "cell_type": "code",
   "execution_count": null,
   "id": "df815452-3b2c-4ac6-9e5f-c4d1e5ee5c20",
   "metadata": {},
   "outputs": [],
   "source": []
  }
 ],
 "metadata": {
  "kernelspec": {
   "display_name": "Python 3 (ipykernel)",
   "language": "python",
   "name": "python3"
  },
  "language_info": {
   "codemirror_mode": {
    "name": "ipython",
    "version": 3
   },
   "file_extension": ".py",
   "mimetype": "text/x-python",
   "name": "python",
   "nbconvert_exporter": "python",
   "pygments_lexer": "ipython3",
   "version": "3.11.7"
  }
 },
 "nbformat": 4,
 "nbformat_minor": 5
}
